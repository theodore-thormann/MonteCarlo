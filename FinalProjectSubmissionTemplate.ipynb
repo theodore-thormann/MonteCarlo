{
 "cells": [
  {
   "cell_type": "markdown",
   "id": "45762487-d33f-486d-8e38-2cdea04e3528",
   "metadata": {},
   "source": [
    "# Metadata\n",
    "\n",
    "* Title: **Final Project Report**\n",
    "* Class: DS 5100\n",
    "* Date:\n",
    "* Student Name:\n",
    "* Student Net ID:\n",
    "* This URL: <a URL to the notebook source of this document>\n",
    "* GitHub Repo URL: "
   ]
  },
  {
   "cell_type": "markdown",
   "id": "d32cb273-9a40-4909-a7ce-51f6e4958d3c",
   "metadata": {},
   "source": [
    "# The Monte Carlo Module"
   ]
  },
  {
   "cell_type": "code",
   "execution_count": null,
   "id": "a0743efc-a785-4b5c-a9e6-b65d4507a67f",
   "metadata": {},
   "outputs": [],
   "source": [
    "# A code block with your classes.\n",
    "import numpy as np\n",
    "import pandas as pd\n",
    "import random\n",
    "from itertools import combinations\n",
    "\n",
    "class Die():\n",
    "    \"\"\"\n",
    "    A class to represent a die.\n",
    "    \n",
    "    ...\n",
    "    Attributes\n",
    "    ----------\n",
    "    faces : list\n",
    "        a series of die faces\n",
    "        \n",
    "    weights : list\n",
    "        a series of weights for each die face, defaults to 1\n",
    "        \n",
    "    Methods\n",
    "    -------\n",
    "    change_weight(face_changed, new_weight):\n",
    "        Changes the weight of the face corresponding to the user input\n",
    "\n",
    "    roll(times_to_roll=1):\n",
    "        The amount of times the user would like to roll an individual die, defaults to 1\n",
    "\n",
    "    reveal():\n",
    "        Returns the dataframe for the dice object \n",
    "    \"\"\"\n",
    "    def __init__(self, faces, weights = 1):\n",
    "        \"\"\"\n",
    "        Constructs all the necessary attributes for the die object\n",
    "        \n",
    "        Parameters\n",
    "        ----------\n",
    "            faces : list\n",
    "                a series of die faces\n",
    "            weights: list\n",
    "                a series of weights for each die face, default to 1\n",
    "        \"\"\"\n",
    "        self.faces = pd.Series(faces)\n",
    "        self.weights = weights\n",
    "        self._df = pd.DataFrame({'faces' : self.faces,\n",
    "                                  'weights' : self.weights})\n",
    "\n",
    "    def change_weight(self, face_changed, new_weight):\n",
    "        \"\"\"\n",
    "        Changes the weight of the face corresponding to the user input\n",
    "        \n",
    "        Parameters\n",
    "        ----------\n",
    "            face_changed : number or string\n",
    "                the face that the user wants changed\n",
    "            new_weight : float\n",
    "                the number that the user wants the weight of the die face changed to\n",
    "                \n",
    "        Returns\n",
    "        -------\n",
    "        None\n",
    "        \"\"\"\n",
    "        new_weight = float(new_weight)\n",
    "        if face_changed in self._df['faces'].values:\n",
    "            for i in range(0, len(self._df.faces)):\n",
    "                if self._df['faces'][i] == face_changed:\n",
    "                    self._df['weights'][i] = new_weight\n",
    "                else:\n",
    "                    pass\n",
    "        else:\n",
    "            print(\"The face_changed is not in the list of faces\")\n",
    "           \n",
    "    def roll(self, times_to_roll=1):\n",
    "        \"\"\"\n",
    "        The amount of times the user would like to roll an individual die, defaults to 1\n",
    "        \n",
    "        Parameters\n",
    "        ----------\n",
    "        times_to_roll : int\n",
    "            the amount of times the user wants their die to roll\n",
    "        \n",
    "        Returns\n",
    "        -------\n",
    "        list_of_outcomes : list\n",
    "            a list of outcomes for the number of rolls\n",
    "        \"\"\"\n",
    "        list_of_outcomes = random.choices(self._df.faces, weights = self._df.weights, cum_weights = None, k = times_to_roll)\n",
    "        return list_of_outcomes\n",
    "    \n",
    "    def reveal(self):\n",
    "        \"\"\"\n",
    "        Reveals the die dataframe containing the faces and weights of each die\n",
    "        \n",
    "        Parameters\n",
    "        ----------\n",
    "        None\n",
    "        \n",
    "        Returns\n",
    "        -------\n",
    "        self._df : pandas dataframe\n",
    "            the die dataframe containing the faces and weights of each die\"\"\"\n",
    "        return self._df\n",
    "    \n",
    "class Game():\n",
    "    \"\"\"\n",
    "    A class to represent a game which consists of rolling one or more dice of the same kind one or more times\n",
    "    \n",
    "    ...\n",
    "    Attributes\n",
    "    ----------\n",
    "    list_of_dice : list\n",
    "        a list of die that were instantiated using the Die class\n",
    "        \n",
    "    Methods\n",
    "    -------\n",
    "    play(roll_times):\n",
    "        Rolls each die in the dice list the amount of times specified by the user\n",
    "\n",
    "    show(choice='wide'):\n",
    "        Shows the user the results of the rolls.\n",
    "    \"\"\"\n",
    "    \n",
    "    def __init__(self, list_of_dice):\n",
    "        \"\"\"\n",
    "        Constructs all the necessary attributes for the game object\n",
    "        \n",
    "        Parameters\n",
    "        ----------\n",
    "        list_of_dice : list\n",
    "            a list of die that were instantiated using the Die class\n",
    "        \"\"\"\n",
    "        self.list_of_dice = list_of_dice\n",
    "        \n",
    "    def play(self, roll_times):\n",
    "        \"\"\"\n",
    "        Rolls each die in the dice list the amount of times specified by the user\n",
    "        \n",
    "        Parameters\n",
    "        ----------\n",
    "        roll_times : int\n",
    "            the amount of times the user wants their list of die to roll for the game\n",
    "        \"\"\"\n",
    "        roll_outcome = []\n",
    "        header = []\n",
    "        for x in range(0,len(self.list_of_dice)):\n",
    "            roll_outcome.append(self.list_of_dice[x].roll(roll_times))\n",
    "        for x in range(0,len(self.list_of_dice)):\n",
    "            header.append(\"Die \" + str(x+1))\n",
    "        _faces_df = pd.DataFrame(roll_outcome)\n",
    "        self._faces_df = _faces_df.T\n",
    "        self._faces_df = self._faces_df.set_axis(header, axis=1)\n",
    "        self._faces_df.index.name = 'Roll Number'\n",
    "              \n",
    "    def show(self, choice='wide'):\n",
    "        \"\"\"\n",
    "        Shows the user the results of the rolls.\n",
    "        \n",
    "        Parameters\n",
    "        ----------\n",
    "        choice : string\n",
    "            the user specifies if they would like the dataframe returned to be 'wide' or 'narrow'\n",
    "            \n",
    "        Returns\n",
    "        -------\n",
    "        self.faces_df : pandas dataframe\n",
    "            a dataframe with the roll number as the index, each die from the list_of_dice list as a column, and the results of each roll as a value\n",
    "            \n",
    "        self.narrow_df : pandas dataframe\n",
    "            a dataframe with a two column index consisting of the roll number and the die number and a single column showing the faces rolled\"\"\"\n",
    "        if choice == 'wide':\n",
    "            return self._faces_df\n",
    "        elif choice == 'narrow':\n",
    "            self._narrow_df = pd.DataFrame(self._faces_df.stack())\n",
    "            return self._narrow_df\n",
    "        if choice != 'wide' or choice != 'narrow':\n",
    "            raise Exception(\"You must either input 'wide' or 'narrow'\")\n",
    "    \n",
    "class Analyzer():\n",
    "    \"\"\"\n",
    "    A class to represent an analyzer which analyzes a game played of dice played\n",
    "    \n",
    "    ...\n",
    "    Attributes\n",
    "    ----------\n",
    "    game : object\n",
    "        an object instantiated from the game class\n",
    "    self.access : pandas dataframe\n",
    "        a dataframe showing the results from the game object\n",
    "        \n",
    "    Methods\n",
    "    -------\n",
    "    jackpot():\n",
    "        Shows the user how many times a roll resulted in all faces being the same.\n",
    "\n",
    "    combo():\n",
    "        Shows the suer how many combination types of faces were rolled and their counts.\n",
    "\n",
    "    face_counts_per_roll():\n",
    "        Computes how many times a given face is rolled for each roll of a game.\n",
    "    \"\"\"\n",
    "    \n",
    "    def __init__(self, game):\n",
    "        \"\"\"\n",
    "        Constructs all the necessary attributes for the analyzer object\n",
    "        \n",
    "        Parameters\n",
    "        ----------\n",
    "        game : object\n",
    "            an object instantiated from the game class\n",
    "        \"\"\"\n",
    "        self.game = game\n",
    "        self.access = self.game.show()\n",
    "        \n",
    "    def jackpot(self):\n",
    "        \"\"\"\n",
    "        Shows the user how many times a roll resulted in all faces being the same.\n",
    "        \n",
    "        Parameters\n",
    "        ----------\n",
    "        None\n",
    "        \n",
    "        Returns\n",
    "        -------\n",
    "        jackpot print statement : string\n",
    "            A string telling the user the number of jackpots in their game\"\"\"\n",
    "        self.jackpot = 0\n",
    "        results = self.access.nunique(axis = 1).eq(1)\n",
    "        self.jackpot_df = self.access[self.access.nunique(axis = 1).eq(1)]\n",
    "        for i in range(0, len(results)):\n",
    "            if results[i] == True:\n",
    "                self.jackpot += 1\n",
    "        return print(\"Here are your number of jackpots: \" + str(self.jackpot))\n",
    "\n",
    "    def combo(self):\n",
    "        \"\"\"\n",
    "        Shows the suer how many combination types of faces were rolled and their counts.\n",
    "        \"\"\"\n",
    "        self.combo_df = self.access.apply(lambda x: pd.Series(sorted(x)), 1).value_counts().to_frame('n')\n",
    "    \n",
    "    def face_counts_per_roll(self):\n",
    "        \"\"\"\n",
    "        Computes how many times a given face is rolled for each roll of a game.\n",
    "        \"\"\"\n",
    "        self.face_count_df = self.access.apply(pd.Series.value_counts, axis=1).fillna(0)"
   ]
  },
  {
   "cell_type": "markdown",
   "id": "4c81c4f0-b6ff-46ab-ba2c-9de7f0179715",
   "metadata": {},
   "source": [
    "# Test Module"
   ]
  },
  {
   "cell_type": "code",
   "execution_count": null,
   "id": "14b878d8-258b-4cf2-ad88-b8ee90d43977",
   "metadata": {},
   "outputs": [],
   "source": [
    "# A code block with your test code.\n",
    "import unittest\n",
    "from ClassesFinalProject import *\n",
    "import pandas as pd\n",
    "\n",
    "class ClassesFinalProjectSuite(unittest.TestCase):\n",
    "    \n",
    "    def test_01_change_weight(self):\n",
    "        \"\"\"\n",
    "        Tests the change_weight method by making sure the value from the weight database column is the same as the user input\n",
    "        \"\"\"\n",
    "        test1 = Die([1,2,3])\n",
    "        test1.change_weight(1,2)\n",
    "        self.assertEqual(test1._df.faces[1],2)\n",
    "\n",
    "    def test_02_change_weight(self):\n",
    "        \"\"\"\n",
    "        Tests the change_weight method by returning false saying the weight database column is not equal to the incorrect number\n",
    "        \"\"\"\n",
    "        test2 = Die([1,2,3])\n",
    "        test2.change_weight(1,2)\n",
    "        self.assertFalse(test2._df.faces[1] == 3)\n",
    "        \n",
    "    def test_03_roll(self):\n",
    "        \"\"\"\n",
    "        Tests the roll method by making sure that it rolls the amount of time the user specifies\n",
    "        \"\"\"\n",
    "        test3 = Die([1,2,3])\n",
    "        self.assertEqual(len(test3.roll(10)),10)\n",
    "    \n",
    "    def test_04_reveal(self):\n",
    "        \"\"\"\n",
    "        Tests the reveal method by making sure the dataframe created equals the number of faces input by the user\n",
    "        \"\"\"\n",
    "        test4 = Die([1,2,3])\n",
    "        self.assertEqual(len(test4._df), 3)\n",
    "        \n",
    "    def test_05_play(self):\n",
    "        \"\"\"\n",
    "        Tests the play method by making sure the length of the resulting play data fram equals the number of plays input by the user\n",
    "        \"\"\"\n",
    "        die1 = Die([1,2,3])\n",
    "        die2 = Die([1,2,3])\n",
    "        die3 = Die([1,2,3])\n",
    "        game_dice = [die1, die2, die3]\n",
    "        test5_game = Game(game_dice)\n",
    "        test5_game.play(10)\n",
    "        self.assertEqual(len(test5_game._faces_df),10)\n",
    "\n",
    "    def test_06_show_wide(self):\n",
    "        \"\"\"\n",
    "        Tests the show method to make sure the outputting dataframe is wide by measing the length of columns in the dataframe\n",
    "        \"\"\"\n",
    "        die1 = Die([1,2,3])\n",
    "        die2 = Die([1,2,3])\n",
    "        die3 = Die([1,2,3])\n",
    "        game_dice = [die1, die2, die3]\n",
    "        test6_game = Game(game_dice)\n",
    "        test6_game.play(10)\n",
    "        test6_game.show('wide')\n",
    "        self.assertEqual(len(test6_game._faces_df.columns), 3)\n",
    "\n",
    "    def test_07_show_narrow(self):\n",
    "        \"\"\"\n",
    "        Tests the show method to make sure the outputting dataframe is narrow by measuring the length of the columns in the dataframe\n",
    "        \"\"\"\n",
    "        die1 = Die([1,2,3])\n",
    "        die2 = Die([1,2,3])\n",
    "        die3 = Die([1,2,3])\n",
    "        game_dice = [die1, die2, die3]\n",
    "        test7_game = Game(game_dice)\n",
    "        test7_game.play(10)\n",
    "        test7_game.show('narrow')\n",
    "        self.assertEqual(len(test7_game._narrow_df.columns), 1)\n",
    "\n",
    "    def test_08_jackpot(self):\n",
    "        \"\"\"\n",
    "        Tests the jackpot method by making sure the number of jackpots returned for a very unfair couple of dice is at least 1\n",
    "        \"\"\"\n",
    "        die1 = Die([1,2], [100, 1])\n",
    "        die2 = Die([1,2], [100, 1])\n",
    "        game_dice = [die1, die2]\n",
    "        test8_game = Game(game_dice)\n",
    "        test8_game.play(10)\n",
    "        test8_analysis = Analyzer(test8_game)\n",
    "        test8_analysis.jackpot()\n",
    "        self.assertTrue(test8_analysis.jackpot > 1)\n",
    "\n",
    "    def test_09_combos(self):\n",
    "        \"\"\"\n",
    "        Tests the combo method by making sure the dataframe outputs an entry\n",
    "        \"\"\"\n",
    "        die1 = Die([1,2,3])\n",
    "        die2 = Die([1,2,3])\n",
    "        die3 = Die([1,2,3])\n",
    "        game_dice = [die1, die2, die3]\n",
    "        test9_game = Game(game_dice)\n",
    "        test9_game.play(1)\n",
    "        test9_analysis = Analyzer(test9_game)\n",
    "        test9_analysis.combo()\n",
    "        self.assertEqual(len(test9_analysis.combo_df), 1)\n",
    "\n",
    "    def test_10_face_counts_per_roll(self):\n",
    "        \"\"\"\n",
    "        Tests the face_counts_per_roll method by rolling a dice only one time and making sure the result sums to 1\n",
    "        \"\"\"\n",
    "        die1 = Die([1,2,3,4,5,6])\n",
    "        game_dice = [die1]\n",
    "        test10_game = Game(game_dice)\n",
    "        test10_game.play(1)\n",
    "        test10_analysis = Analyzer(test10_game)\n",
    "        test10_analysis.face_counts_per_roll()\n",
    "        self.assertEqual(test10_analysis.face_count_df.sum(axis=1).values, 1)\n",
    "\n",
    "\n",
    "        \n",
    "        \n",
    "if __name__ == '__main__':\n",
    "\n",
    "    unittest.main(verbosity=3)"
   ]
  },
  {
   "cell_type": "markdown",
   "id": "3c2b90b6-ac8b-43fa-a069-cb5b0b22aee0",
   "metadata": {},
   "source": [
    "# Test Results"
   ]
  },
  {
   "cell_type": "code",
   "execution_count": null,
   "id": "c80201af-9579-4a2c-bbc7-805e420d156c",
   "metadata": {},
   "outputs": [],
   "source": [
    "# A text block with the output of a successful test.\n",
    "test_01_change_weight (__main__.ClassesFinalProjectSuite)\n",
    "Tests the change_weight method by making sure the value from the weight database column is the same as the user input ... ok\n",
    "test_02_change_weight (__main__.ClassesFinalProjectSuite)\n",
    "Tests the change_weight method by returning false saying the weight database column is not equal to the incorrect number ... ok\n",
    "test_03_roll (__main__.ClassesFinalProjectSuite)\n",
    "Tests the roll method by making sure that it rolls the amount of time the user specifies ... ok\n",
    "test_04_reveal (__main__.ClassesFinalProjectSuite)\n",
    "Tests the reveal method by making sure the dataframe created equals the number of faces input by the user ... ok\n",
    "test_05_play (__main__.ClassesFinalProjectSuite)\n",
    "Tests the play method by making sure the length of the resulting play data fram equals the number of plays input by the user ... ok\n",
    "test_06_show_wide (__main__.ClassesFinalProjectSuite)\n",
    "Tests the show method to make sure the outputting dataframe is wide by measing the length of columns in the dataframe ... ok\n",
    "test_07_show_narrow (__main__.ClassesFinalProjectSuite)\n",
    "Tests the show method to make sure the outputting dataframe is narrow by measuring the length of the columns in the dataframe ... ok\n",
    "test_08_jackpot (__main__.ClassesFinalProjectSuite)\n",
    "Tests the jackpot method by making sure the number of jackpots returned for a very unfair couple of dice is at least 1 ... ok\n",
    "test_09_combos (__main__.ClassesFinalProjectSuite)\n",
    "Tests the combo method by making sure the dataframe outputs an entry ... ok\n",
    "test_10_face_counts_per_roll (__main__.ClassesFinalProjectSuite)\n",
    "Tests the face_counts_per_roll method by rolling a dice only one time and making sure the result sums to 1 ... ok\n",
    "\n",
    "----------------------------------------------------------------------\n",
    "Ran 10 tests in 0.022s\n",
    "\n",
    "OK"
   ]
  },
  {
   "cell_type": "markdown",
   "id": "7c44695d-d1b3-4edf-9f94-e64d7446f199",
   "metadata": {},
   "source": [
    "# Scenarios\n",
    "\n",
    "Code blocks with your scenarios and their outputs. \n",
    "\n",
    "These should have appropriate import statements even though the code is now in the same notebook as the classes it calls. "
   ]
  },
  {
   "cell_type": "markdown",
   "id": "90b7abd8-f4a7-4d71-bc9a-746640516b98",
   "metadata": {},
   "source": [
    "## Scenario 1- Coin Flip"
   ]
  },
  {
   "cell_type": "code",
   "execution_count": 1,
   "id": "7f8796bd-77b2-459b-b5ab-3a78d6dab836",
   "metadata": {},
   "outputs": [],
   "source": [
    "from ClassesFinalProject import *\n",
    "import matplotlib.pyplot as plt"
   ]
  },
  {
   "cell_type": "markdown",
   "id": "5b8b7a9e-5c56-4934-8d96-82a2882a157a",
   "metadata": {},
   "source": [
    "__Create 3 fair coins:__"
   ]
  },
  {
   "cell_type": "code",
   "execution_count": 2,
   "id": "815eae36-4357-442a-894e-d056ebb8f998",
   "metadata": {},
   "outputs": [],
   "source": [
    "fair_coin1 = Die(['H','T'])\n",
    "fair_coin2 = Die(['H','T'])\n",
    "fair_coin3 = Die(['H','T'])\n",
    "\n",
    "fair_coins = [fair_coin1, fair_coin2, fair_coin3]"
   ]
  },
  {
   "cell_type": "markdown",
   "id": "4625120a-e436-4598-bfde-0b80f750d33c",
   "metadata": {},
   "source": [
    "__Play 1000 games with a fair coin:__"
   ]
  },
  {
   "cell_type": "code",
   "execution_count": 3,
   "id": "88b86663-ff78-4494-b94a-77fe4bf3ab1b",
   "metadata": {},
   "outputs": [],
   "source": [
    "fair_game = Game(fair_coins)\n",
    "\n",
    "fair_game.play(1000)"
   ]
  },
  {
   "cell_type": "markdown",
   "id": "732ba436-3fb7-4871-ba26-dfd65f15f113",
   "metadata": {},
   "source": [
    "__Analyze the fair flip game:__"
   ]
  },
  {
   "cell_type": "code",
   "execution_count": 4,
   "id": "3226e4a3-ef71-4a57-9dc3-cc21f9746f49",
   "metadata": {},
   "outputs": [],
   "source": [
    "fair_coin_analyzer = Analyzer(fair_game)"
   ]
  },
  {
   "cell_type": "markdown",
   "id": "dba8aa90-64c6-4088-bb32-8c339d58b2df",
   "metadata": {},
   "source": [
    "__Jackpot frequency:__"
   ]
  },
  {
   "cell_type": "code",
   "execution_count": 5,
   "id": "cdfdb5a8-a5f4-4c8d-a562-816d3ee2972b",
   "metadata": {},
   "outputs": [
    {
     "name": "stdout",
     "output_type": "stream",
     "text": [
      "Here are your number of jackpots: 249\n"
     ]
    }
   ],
   "source": [
    "fair_coin_analyzer.jackpot()"
   ]
  },
  {
   "cell_type": "markdown",
   "id": "c4cfa48e-e746-4169-84b0-f4e25720e36d",
   "metadata": {},
   "source": [
    "__Here is the relative frequency of jackpots:__"
   ]
  },
  {
   "cell_type": "code",
   "execution_count": 6,
   "id": "c254688b-9126-4cb2-b7cb-65e839709907",
   "metadata": {},
   "outputs": [
    {
     "name": "stdout",
     "output_type": "stream",
     "text": [
      "0.249\n"
     ]
    }
   ],
   "source": [
    "fair_coin_jackpot = (fair_coin_analyzer.jackpot / 1000)\n",
    "print(fair_coin_jackpot)"
   ]
  },
  {
   "cell_type": "markdown",
   "id": "f0f479dd-dd2d-4449-b98a-35b8fc32c42f",
   "metadata": {},
   "source": [
    "__Create 2 unfair coins and a fair coin:__"
   ]
  },
  {
   "cell_type": "code",
   "execution_count": 7,
   "id": "f013367b-aa32-4edb-b332-a504424ccdca",
   "metadata": {},
   "outputs": [],
   "source": [
    "unfair_game_coin1 = Die(['H','T'])\n",
    "unfair_game_coin2 = Die(['H','T'])\n",
    "unfair_game_coin3 = Die(['H','T'])"
   ]
  },
  {
   "cell_type": "markdown",
   "id": "b65ea83e-01bf-48c8-9575-b114e8d8965f",
   "metadata": {},
   "source": [
    "__Change the coin's weight__"
   ]
  },
  {
   "cell_type": "code",
   "execution_count": 8,
   "id": "f99385dd-1243-4c5c-81ae-321fa1e298c5",
   "metadata": {},
   "outputs": [
    {
     "name": "stderr",
     "output_type": "stream",
     "text": [
      "/Users/theothormann/Desktop/Data Science/DS5001/MonteCarlo/ClassesFinalProject.py:65: SettingWithCopyWarning: \n",
      "A value is trying to be set on a copy of a slice from a DataFrame\n",
      "\n",
      "See the caveats in the documentation: https://pandas.pydata.org/pandas-docs/stable/user_guide/indexing.html#returning-a-view-versus-a-copy\n",
      "  self._df['weights'][i] = new_weight\n"
     ]
    }
   ],
   "source": [
    "unfair_game_coin1.change_weight('H', 5)\n",
    "unfair_game_coin2.change_weight('H', 5)"
   ]
  },
  {
   "cell_type": "code",
   "execution_count": 9,
   "id": "6c1489b1-85be-4568-aeac-f78cb37f9d92",
   "metadata": {},
   "outputs": [],
   "source": [
    "unfair_game_coins = [unfair_game_coin1, unfair_game_coin2, unfair_game_coin3]"
   ]
  },
  {
   "cell_type": "markdown",
   "id": "a8c33c6d-b976-4165-80b3-41ddf7e7f67e",
   "metadata": {},
   "source": [
    "__Play 1000 weighted games__"
   ]
  },
  {
   "cell_type": "code",
   "execution_count": 10,
   "id": "98ec1c16-7243-4093-9b0b-1840480dfdad",
   "metadata": {},
   "outputs": [],
   "source": [
    "unfair_game = Game(unfair_game_coins)\n",
    "\n",
    "unfair_game.play(1000)"
   ]
  },
  {
   "cell_type": "markdown",
   "id": "88ce390e-7add-4f76-9d8f-fe4d602a849b",
   "metadata": {},
   "source": [
    "__Analyze the unfair game:__"
   ]
  },
  {
   "cell_type": "code",
   "execution_count": 11,
   "id": "46a8620e-e53d-4926-9fe5-63f31771035f",
   "metadata": {},
   "outputs": [],
   "source": [
    "unfair_coin_analyzer = Analyzer(unfair_game)"
   ]
  },
  {
   "cell_type": "markdown",
   "id": "777ba0b2-6412-4e8f-8738-d641c5dbe23e",
   "metadata": {},
   "source": [
    "__Jackpot frequency:__"
   ]
  },
  {
   "cell_type": "code",
   "execution_count": 12,
   "id": "14a3806a-e5b0-4ffc-a60b-5d2ae8b3eae8",
   "metadata": {},
   "outputs": [
    {
     "name": "stdout",
     "output_type": "stream",
     "text": [
      "Here are your number of jackpots: 373\n"
     ]
    }
   ],
   "source": [
    "unfair_coin_analyzer.jackpot()"
   ]
  },
  {
   "cell_type": "markdown",
   "id": "4e13ca27-9277-410d-b356-cb7218641f1a",
   "metadata": {},
   "source": [
    "__Relative jackpot frequency:__"
   ]
  },
  {
   "cell_type": "code",
   "execution_count": 13,
   "id": "49d10882-3fd4-45a5-aa90-c21102ea6c1f",
   "metadata": {},
   "outputs": [
    {
     "name": "stdout",
     "output_type": "stream",
     "text": [
      "0.373\n"
     ]
    }
   ],
   "source": [
    "unfair_coin_jackpot = (unfair_coin_analyzer.jackpot / 1000)\n",
    "print(unfair_coin_jackpot)"
   ]
  },
  {
   "cell_type": "markdown",
   "id": "e04c5f9a-7fed-49de-acbf-c9c692d4fd32",
   "metadata": {},
   "source": [
    "__Bar graph showing the difference between the results:__"
   ]
  },
  {
   "cell_type": "code",
   "execution_count": 14,
   "id": "6b2942d8-94a2-4dd7-be59-c2205ae41c96",
   "metadata": {},
   "outputs": [
    {
     "data": {
      "text/plain": [
       "<BarContainer object of 2 artists>"
      ]
     },
     "execution_count": 14,
     "metadata": {},
     "output_type": "execute_result"
    },
    {
     "data": {
      "image/png": "[encoded data removed]",
      "text/plain": [
       "<Figure size 432x288 with 1 Axes>"
      ]
     },
     "metadata": {
      "needs_background": "light"
     },
     "output_type": "display_data"
    }
   ],
   "source": [
    "names = ['Fair Jackpot', 'Unfair Jackpot']\n",
    "results = [fair_coin_jackpot, unfair_coin_jackpot]\n",
    "\n",
    "plt.bar(names, results)"
   ]
  },
  {
   "cell_type": "markdown",
   "id": "92793a09-0024-465d-b272-2ef8b9a6c21c",
   "metadata": {
    "tags": []
   },
   "source": [
    "## Scenario 2 - Dice Roll"
   ]
  },
  {
   "cell_type": "markdown",
   "id": "e3f2042e-dec1-4ae6-ac67-fecc9b0a2881",
   "metadata": {},
   "source": [
    "__Create five fair dice with 6 sides__"
   ]
  },
  {
   "cell_type": "code",
   "execution_count": 15,
   "id": "fcfd93fd-0372-4733-9764-1d206d9e0d09",
   "metadata": {},
   "outputs": [],
   "source": [
    "die1 = Die([1,2,3,4,5,6])\n",
    "die2 = Die([1,2,3,4,5,6])\n",
    "die3 = Die([1,2,3,4,5,6])\n",
    "die4 = Die([1,2,3,4,5,6])\n",
    "die5 = Die([1,2,3,4,5,6])"
   ]
  },
  {
   "cell_type": "markdown",
   "id": "d7afc611-c99f-4afb-8bfb-f5abd8495661",
   "metadata": {},
   "source": [
    "__Create two unfair dice where 6 is weighted heavier__"
   ]
  },
  {
   "cell_type": "code",
   "execution_count": 16,
   "id": "7218e98e-6ec0-4766-8793-5b386ce6ee24",
   "metadata": {},
   "outputs": [],
   "source": [
    "die1_weighted6 = Die([1,2,3,4,5,6])\n",
    "die2_weighted6 = Die([1,2,3,4,5,6])\n",
    "\n",
    "die1_weighted6.change_weight(6, 5)\n",
    "die2_weighted6.change_weight(6, 5)"
   ]
  },
  {
   "cell_type": "markdown",
   "id": "41fe41dc-53c1-4d4c-a39a-41f320b58654",
   "metadata": {},
   "source": [
    "__Create one unfair dice where 1 is weighted heavier__"
   ]
  },
  {
   "cell_type": "code",
   "execution_count": 17,
   "id": "7edfe5e7-dc90-4208-b3f3-8e4c80399536",
   "metadata": {},
   "outputs": [],
   "source": [
    "die1_weighted1 = Die([1,2,3,4,5,6])\n",
    "\n",
    "die1_weighted1.change_weight(1, 5)"
   ]
  },
  {
   "cell_type": "markdown",
   "id": "bce779ff-ee64-47c2-98e0-08b28d63977f",
   "metadata": {},
   "source": [
    "__Create a list of the fair dice__"
   ]
  },
  {
   "cell_type": "code",
   "execution_count": 18,
   "id": "13fba3c7-b47d-44f9-bd28-afe814ffbc2f",
   "metadata": {},
   "outputs": [],
   "source": [
    "fair_dice = [die1, die2, die3, die4, die5]"
   ]
  },
  {
   "cell_type": "markdown",
   "id": "1b3b5ebc-4e57-40d4-a5e9-325d07c5d315",
   "metadata": {},
   "source": [
    "__Create and play a game using five fair dice__"
   ]
  },
  {
   "cell_type": "code",
   "execution_count": 19,
   "id": "65d179c1-54f6-487f-8eac-bee7763894bc",
   "metadata": {},
   "outputs": [],
   "source": [
    "fair_dice_game = Game(fair_dice)\n",
    "fair_dice_game.play(10000)"
   ]
  },
  {
   "cell_type": "markdown",
   "id": "348d6d0e-fa19-434d-bddf-68d672779465",
   "metadata": {},
   "source": [
    "__Create a list of dice for the unfair game__"
   ]
  },
  {
   "cell_type": "code",
   "execution_count": 20,
   "id": "fad32171-333e-4adc-8fd9-25abf9bbae27",
   "metadata": {},
   "outputs": [],
   "source": [
    "unfair_game_dice = [die1, die2, die1_weighted6, die2_weighted6, die1_weighted1]"
   ]
  },
  {
   "cell_type": "markdown",
   "id": "3e51b768-103a-47b8-b937-2d4395c07a5c",
   "metadata": {},
   "source": [
    "__Create and play an unfair game__"
   ]
  },
  {
   "cell_type": "code",
   "execution_count": 21,
   "id": "9146f138-7487-47f6-8d35-54036a47bc97",
   "metadata": {},
   "outputs": [],
   "source": [
    "unfair_dice_game = Game(unfair_game_dice)\n",
    "unfair_dice_game.play(10000)"
   ]
  },
  {
   "cell_type": "markdown",
   "id": "7b59dff9-7b72-4d06-86d7-8da0300b2574",
   "metadata": {},
   "source": [
    "__Create an analyzer for the fair and unfair dice games__"
   ]
  },
  {
   "cell_type": "code",
   "execution_count": 22,
   "id": "4e9e9cf5-ec97-4fce-898f-dba6077fc126",
   "metadata": {},
   "outputs": [],
   "source": [
    "fair_dice_analyzer = Analyzer(fair_dice_game)\n",
    "unfair_dice_analyzer = Analyzer(unfair_dice_game)"
   ]
  },
  {
   "cell_type": "markdown",
   "id": "65d77292-9db3-40c2-95d3-5f424de352c0",
   "metadata": {},
   "source": [
    "__Analyze the jackpot for the fair dice game__"
   ]
  },
  {
   "cell_type": "code",
   "execution_count": 23,
   "id": "01d46b52-8d85-42f3-bf8b-54bf1c88b052",
   "metadata": {},
   "outputs": [
    {
     "name": "stdout",
     "output_type": "stream",
     "text": [
      "Here are your number of jackpots: 7\n"
     ]
    }
   ],
   "source": [
    "fair_dice_analyzer.jackpot()"
   ]
  },
  {
   "cell_type": "code",
   "execution_count": 24,
   "id": "99eac85f-a99e-48a4-9929-1722c5f002f2",
   "metadata": {},
   "outputs": [
    {
     "name": "stdout",
     "output_type": "stream",
     "text": [
      "0.0007\n"
     ]
    }
   ],
   "source": [
    "fair_dice_jackpot = (fair_dice_analyzer.jackpot / 10000)\n",
    "print(fair_dice_jackpot)"
   ]
  },
  {
   "cell_type": "markdown",
   "id": "b5bd13a2-fcd6-40fe-9398-0dc780aa6be9",
   "metadata": {},
   "source": [
    "__Analyze the jackpot for the unfair dice game__"
   ]
  },
  {
   "cell_type": "code",
   "execution_count": 25,
   "id": "80666b85-5e3f-4122-b4cd-98392d686cb3",
   "metadata": {},
   "outputs": [
    {
     "name": "stdout",
     "output_type": "stream",
     "text": [
      "Here are your number of jackpots: 8\n"
     ]
    }
   ],
   "source": [
    "unfair_dice_analyzer.jackpot()"
   ]
  },
  {
   "cell_type": "code",
   "execution_count": 26,
   "id": "420a45dc-ff18-4ced-a267-bc03242972d3",
   "metadata": {},
   "outputs": [
    {
     "name": "stdout",
     "output_type": "stream",
     "text": [
      "0.0008\n"
     ]
    }
   ],
   "source": [
    "unfair_dice_jackpot = (unfair_dice_analyzer.jackpot / 10000)\n",
    "print(unfair_dice_jackpot)"
   ]
  },
  {
   "cell_type": "markdown",
   "id": "122fdb59-9403-475c-874a-138e84bec3c1",
   "metadata": {},
   "source": [
    "__Bar graph showing the difference between the results:__"
   ]
  },
  {
   "cell_type": "code",
   "execution_count": 27,
   "id": "812a726a-92de-4b77-a579-84367de511da",
   "metadata": {},
   "outputs": [
    {
     "data": {
      "text/plain": [
       "<BarContainer object of 2 artists>"
      ]
     },
     "execution_count": 27,
     "metadata": {},
     "output_type": "execute_result"
    },
    {
     "data": {
      "image/png": "[encoded data removed]",
      "text/plain": [
       "<Figure size 432x288 with 1 Axes>"
      ]
     },
     "metadata": {
      "needs_background": "light"
     },
     "output_type": "display_data"
    }
   ],
   "source": [
    "names = ['Fair Jackpot', 'Unfair Jackpot']\n",
    "results = [fair_dice_jackpot, unfair_dice_jackpot]\n",
    "\n",
    "plt.bar(names, results)"
   ]
  },
  {
   "cell_type": "markdown",
   "id": "34c47bd1-eb11-498b-98b8-d91dfa2a4be7",
   "metadata": {},
   "source": [
    "__Run the combo analyzer on the fair and unfair dice games__"
   ]
  },
  {
   "cell_type": "code",
   "execution_count": 28,
   "id": "44219ead-f36a-4e72-ba17-7836db36e5bf",
   "metadata": {},
   "outputs": [],
   "source": [
    "fair_dice_analyzer.combo()\n",
    "unfair_dice_analyzer.combo()"
   ]
  },
  {
   "cell_type": "markdown",
   "id": "a8ace61f-b2eb-4fad-bfab-67c85c61908a",
   "metadata": {},
   "source": [
    "__Create a bar graph for the Fair Dice Game__"
   ]
  },
  {
   "cell_type": "code",
   "execution_count": 29,
   "id": "dcc00914-9bab-4f1f-b35b-6f1d2c256614",
   "metadata": {},
   "outputs": [
    {
     "data": {
      "text/plain": [
       "<AxesSubplot:xlabel='0,1,2,3,4'>"
      ]
     },
     "execution_count": 29,
     "metadata": {},
     "output_type": "execute_result"
    },
    {
     "data": {
      "image/png": "[encoded data removed]",
      "text/plain": [
       "<Figure size 432x288 with 1 Axes>"
      ]
     },
     "metadata": {
      "needs_background": "light"
     },
     "output_type": "display_data"
    }
   ],
   "source": [
    "fair_dice_analyzer.combo_df.head(10).plot.bar()"
   ]
  },
  {
   "cell_type": "markdown",
   "id": "c004ac48-c880-4b64-9af8-4d9c4fc0e749",
   "metadata": {},
   "source": [
    "__Create a bar graph for the Fair Dice Game__"
   ]
  },
  {
   "cell_type": "code",
   "execution_count": 30,
   "id": "c0c7403e-b700-4a13-b251-82aee0f2c30a",
   "metadata": {},
   "outputs": [
    {
     "data": {
      "text/plain": [
       "<AxesSubplot:xlabel='0,1,2,3,4'>"
      ]
     },
     "execution_count": 30,
     "metadata": {},
     "output_type": "execute_result"
    },
    {
     "data": {
      "image/png": "[encoded data removed]",
      "text/plain": [
       "<Figure size 432x288 with 1 Axes>"
      ]
     },
     "metadata": {
      "needs_background": "light"
     },
     "output_type": "display_data"
    }
   ],
   "source": [
    "unfair_dice_analyzer.combo_df.head(10).plot.bar()"
   ]
  },
  {
   "cell_type": "markdown",
   "id": "d7cb0311-96b3-497f-8b0b-d1b8957f340a",
   "metadata": {},
   "source": [
    "## Scenario 3 - Alphabet"
   ]
  },
  {
   "cell_type": "markdown",
   "id": "68353cf9-1c50-4049-a293-7ba51a52cfee",
   "metadata": {},
   "source": [
    "__Create five dice with the alphabet as faces on each die__"
   ]
  },
  {
   "cell_type": "code",
   "execution_count": 32,
   "id": "6f0b265b-2517-4e04-9298-31eb6876036d",
   "metadata": {},
   "outputs": [],
   "source": [
    "alpha1 = Die(['a','b','c','d','e','f','g','h','i','j','k','l','m','n','o','p','q','r','s','t','u','v','w','x','y','z'],\n",
    "            [8.4966, 2.0720, 4.5388, 3.3844, 11.1607, 1.8121, 2.4705, 3.0034, 7.5448, 0.1965, 1.1016, 5.4839, 3.0129, 6.6544, 7.1635, 3.1671, 0.1962, 7.5809, 5.7351, 6.9509, 3.6308, 1.0074, 1.2899, 0.2902, 1.7779, 0.2722])\n",
    "alpha2 = Die(['a','b','c','d','e','f','g','h','i','j','k','l','m','n','o','p','q','r','s','t','u','v','w','x','y','z'],\n",
    "            [8.4966, 2.0720, 4.5388, 3.3844, 11.1607, 1.8121, 2.4705, 3.0034, 7.5448, 0.1965, 1.1016, 5.4839, 3.0129, 6.6544, 7.1635, 3.1671, 0.1962, 7.5809, 5.7351, 6.9509, 3.6308, 1.0074, 1.2899, 0.2902, 1.7779, 0.2722])\n",
    "alpha3 = Die(['a','b','c','d','e','f','g','h','i','j','k','l','m','n','o','p','q','r','s','t','u','v','w','x','y','z'],\n",
    "            [8.4966, 2.0720, 4.5388, 3.3844, 11.1607, 1.8121, 2.4705, 3.0034, 7.5448, 0.1965, 1.1016, 5.4839, 3.0129, 6.6544, 7.1635, 3.1671, 0.1962, 7.5809, 5.7351, 6.9509, 3.6308, 1.0074, 1.2899, 0.2902, 1.7779, 0.2722])\n",
    "alpha4 = Die(['a','b','c','d','e','f','g','h','i','j','k','l','m','n','o','p','q','r','s','t','u','v','w','x','y','z'],\n",
    "            [8.4966, 2.0720, 4.5388, 3.3844, 11.1607, 1.8121, 2.4705, 3.0034, 7.5448, 0.1965, 1.1016, 5.4839, 3.0129, 6.6544, 7.1635, 3.1671, 0.1962, 7.5809, 5.7351, 6.9509, 3.6308, 1.0074, 1.2899, 0.2902, 1.7779, 0.2722])\n",
    "alpha5 = Die(['a','b','c','d','e','f','g','h','i','j','k','l','m','n','o','p','q','r','s','t','u','v','w','x','y','z'],\n",
    "            [8.4966, 2.0720, 4.5388, 3.3844, 11.1607, 1.8121, 2.4705, 3.0034, 7.5448, 0.1965, 1.1016, 5.4839, 3.0129, 6.6544, 7.1635, 3.1671, 0.1962, 7.5809, 5.7351, 6.9509, 3.6308, 1.0074, 1.2899, 0.2902, 1.7779, 0.2722])\n",
    "\n",
    "alpha_list = [alpha1, alpha2, alpha3, alpha4, alpha5]"
   ]
  },
  {
   "cell_type": "markdown",
   "id": "8d1468a7-7b7c-429d-9d10-d1b8d7e2536a",
   "metadata": {},
   "source": [
    "__Create and play a game using the five alphabet dice__"
   ]
  },
  {
   "cell_type": "code",
   "execution_count": 33,
   "id": "c3737a81-40cf-4a70-af11-786cc847688c",
   "metadata": {},
   "outputs": [],
   "source": [
    "alpha_game = Game(alpha_list)\n",
    "alpha_game.play(1000)"
   ]
  },
  {
   "cell_type": "markdown",
   "id": "8c3153f2-2f24-40a9-bf84-ac738189ba32",
   "metadata": {},
   "source": [
    "__Create an analyzer for the alphabet game__"
   ]
  },
  {
   "cell_type": "code",
   "execution_count": 34,
   "id": "d16a6934-3874-462d-b45d-5bd06b88be20",
   "metadata": {},
   "outputs": [],
   "source": [
    "alpha_game_analyzer = Analyzer(alpha_game)"
   ]
  },
  {
   "cell_type": "markdown",
   "id": "2cf6164f-fb2f-40f6-9dd6-c94e59e58998",
   "metadata": {},
   "source": [
    "__Display the results of the alphabet game__"
   ]
  },
  {
   "cell_type": "code",
   "execution_count": 35,
   "id": "677e028d-0708-4720-82d0-5869c10d50c7",
   "metadata": {},
   "outputs": [
    {
     "data": {
      "text/html": [
       "<div>\n",
       "<style scoped>\n",
       "    .dataframe tbody tr th:only-of-type {\n",
       "        vertical-align: middle;\n",
       "    }\n",
       "\n",
       "    .dataframe tbody tr th {\n",
       "        vertical-align: top;\n",
       "    }\n",
       "\n",
       "    .dataframe thead th {\n",
       "        text-align: right;\n",
       "    }\n",
       "</style>\n",
       "<table border=\"1\" class=\"dataframe\">\n",
       "  <thead>\n",
       "    <tr style=\"text-align: right;\">\n",
       "      <th></th>\n",
       "      <th>Die 1</th>\n",
       "      <th>Die 2</th>\n",
       "      <th>Die 3</th>\n",
       "      <th>Die 4</th>\n",
       "      <th>Die 5</th>\n",
       "    </tr>\n",
       "    <tr>\n",
       "      <th>Roll Number</th>\n",
       "      <th></th>\n",
       "      <th></th>\n",
       "      <th></th>\n",
       "      <th></th>\n",
       "      <th></th>\n",
       "    </tr>\n",
       "  </thead>\n",
       "  <tbody>\n",
       "    <tr>\n",
       "      <th>0</th>\n",
       "      <td>r</td>\n",
       "      <td>e</td>\n",
       "      <td>e</td>\n",
       "      <td>s</td>\n",
       "      <td>e</td>\n",
       "    </tr>\n",
       "    <tr>\n",
       "      <th>1</th>\n",
       "      <td>a</td>\n",
       "      <td>n</td>\n",
       "      <td>b</td>\n",
       "      <td>a</td>\n",
       "      <td>n</td>\n",
       "    </tr>\n",
       "    <tr>\n",
       "      <th>2</th>\n",
       "      <td>o</td>\n",
       "      <td>t</td>\n",
       "      <td>h</td>\n",
       "      <td>p</td>\n",
       "      <td>l</td>\n",
       "    </tr>\n",
       "    <tr>\n",
       "      <th>3</th>\n",
       "      <td>d</td>\n",
       "      <td>f</td>\n",
       "      <td>s</td>\n",
       "      <td>d</td>\n",
       "      <td>r</td>\n",
       "    </tr>\n",
       "    <tr>\n",
       "      <th>4</th>\n",
       "      <td>y</td>\n",
       "      <td>l</td>\n",
       "      <td>g</td>\n",
       "      <td>w</td>\n",
       "      <td>a</td>\n",
       "    </tr>\n",
       "    <tr>\n",
       "      <th>5</th>\n",
       "      <td>i</td>\n",
       "      <td>i</td>\n",
       "      <td>t</td>\n",
       "      <td>l</td>\n",
       "      <td>h</td>\n",
       "    </tr>\n",
       "    <tr>\n",
       "      <th>6</th>\n",
       "      <td>r</td>\n",
       "      <td>t</td>\n",
       "      <td>f</td>\n",
       "      <td>a</td>\n",
       "      <td>t</td>\n",
       "    </tr>\n",
       "    <tr>\n",
       "      <th>7</th>\n",
       "      <td>a</td>\n",
       "      <td>e</td>\n",
       "      <td>l</td>\n",
       "      <td>f</td>\n",
       "      <td>e</td>\n",
       "    </tr>\n",
       "    <tr>\n",
       "      <th>8</th>\n",
       "      <td>c</td>\n",
       "      <td>n</td>\n",
       "      <td>r</td>\n",
       "      <td>e</td>\n",
       "      <td>n</td>\n",
       "    </tr>\n",
       "    <tr>\n",
       "      <th>9</th>\n",
       "      <td>a</td>\n",
       "      <td>n</td>\n",
       "      <td>r</td>\n",
       "      <td>e</td>\n",
       "      <td>s</td>\n",
       "    </tr>\n",
       "  </tbody>\n",
       "</table>\n",
       "</div>"
      ],
      "text/plain": [
       "            Die 1 Die 2 Die 3 Die 4 Die 5\n",
       "Roll Number                              \n",
       "0               r     e     e     s     e\n",
       "1               a     n     b     a     n\n",
       "2               o     t     h     p     l\n",
       "3               d     f     s     d     r\n",
       "4               y     l     g     w     a\n",
       "5               i     i     t     l     h\n",
       "6               r     t     f     a     t\n",
       "7               a     e     l     f     e\n",
       "8               c     n     r     e     n\n",
       "9               a     n     r     e     s"
      ]
     },
     "execution_count": 35,
     "metadata": {},
     "output_type": "execute_result"
    }
   ],
   "source": [
    "alpha_game.show().head(10)"
   ]
  },
  {
   "cell_type": "markdown",
   "id": "ffae0a9a-9795-4f77-8621-4beb4257b258",
   "metadata": {},
   "source": [
    "After looking through the alphabet game display, it seems like there were no actual words that were created."
   ]
  },
  {
   "cell_type": "markdown",
   "id": "6ced706c-19e7-4e79-b171-bfb076f822b4",
   "metadata": {},
   "source": [
    "# Directory Listing\n",
    "\n",
    "A code block that executes the following bash command: \n",
    "\n",
    "```bash\n",
    "!ls -lRF -o\n",
    "```"
   ]
  },
  {
   "cell_type": "code",
   "execution_count": 36,
   "id": "5dbd35c2-e479-4179-b792-997d4293ba96",
   "metadata": {},
   "outputs": [
    {
     "name": "stdout",
     "output_type": "stream",
     "text": [
      "total 288\n",
      "-rw-r--r--@ 1 theothormann   7750 Jul 15 10:52 ClassesFinalProject.py\n",
      "-rw-r--r--@ 1 theothormann   4092 Jul 14 11:16 ClassesFinalProject_test.py\n",
      "-rw-r--r--@ 1 theothormann   1810 Jul 15 10:33 ClassesFinalProject_test.txt\n",
      "-rw-rw-r--@ 1 theothormann  72956 Jul 15 11:03 FinalProjectSubmissionTemplate.ipynb\n",
      "-rw-r--r--@ 1 theothormann  55509 Jul 15 11:02 Scenarios.ipynb\n",
      "drwxr-xr-x  4 theothormann    128 Jul 15 10:53 \u001b[34m__pycache__\u001b[m\u001b[m/\n",
      "\n",
      "./__pycache__:\n",
      "total 48\n",
      "-rw-r--r--  1 theothormann  8453 Jul 15 10:53 ClassesFinalProject.cpython-39.pyc\n",
      "-rw-r--r--  1 theothormann  8443 Jul 14 10:34 SecretDB.cpython-39.pyc\n"
     ]
    }
   ],
   "source": [
    "!ls -lRF -o"
   ]
  },
  {
   "cell_type": "markdown",
   "id": "c4df835c-3cd7-4c74-a4de-51638607680b",
   "metadata": {
    "tags": []
   },
   "source": [
    "# Installation Output Listing\n",
    "    \n",
    "A code block that executes the code to install your your package and outputs a successful installation."
   ]
  },
  {
   "cell_type": "code",
   "execution_count": 3,
   "id": "3609769a-c338-4746-8607-d124caf76ed8",
   "metadata": {},
   "outputs": [
    {
     "name": "stdout",
     "output_type": "stream",
     "text": [
      "Obtaining file:///Users/theothormann/Desktop/Data%20Science/DS5001/MonteCarlo-main\n",
      "Installing collected packages: MonteCarlo\n",
      "  Running setup.py develop for MonteCarlo\n",
      "Successfully installed MonteCarlo-0.1\n"
     ]
    }
   ],
   "source": [
    "# Installation commands\n",
    "!pip install -e ."
   ]
  },
  {
   "cell_type": "code",
   "execution_count": null,
   "id": "0ee8ed62-afe3-467d-80f6-8cbf0dfa4598",
   "metadata": {},
   "outputs": [],
   "source": []
  }
 ],
 "metadata": {
  "kernelspec": {
   "display_name": "Python 3 (ipykernel)",
   "language": "python",
   "name": "python3"
  },
  "language_info": {
   "codemirror_mode": {
    "name": "ipython",
    "version": 3
   },
   "file_extension": ".py",
   "mimetype": "text/x-python",
   "name": "python",
   "nbconvert_exporter": "python",
   "pygments_lexer": "ipython3",
   "version": "3.9.7"
  },
  "widgets": {
   "application/vnd.jupyter.widget-state+json": {
    "state": {},
    "version_major": 2,
    "version_minor": 0
   }
  }
 },
 "nbformat": 4,
 "nbformat_minor": 5
}
