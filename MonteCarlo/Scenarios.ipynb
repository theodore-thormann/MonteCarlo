{
 "cells": [
  {
   "cell_type": "markdown",
   "id": "54278153-4a5e-44ad-beda-99221d24b115",
   "metadata": {},
   "source": [
    "## Scenario 1- Coin Flip"
   ]
  },
  {
   "cell_type": "code",
   "execution_count": 1,
   "id": "a62e83f4-cbd3-414d-9f86-b73104a8b7f5",
   "metadata": {},
   "outputs": [],
   "source": [
    "from ClassesFinalProject import *\n",
    "import matplotlib.pyplot as plt"
   ]
  },
  {
   "cell_type": "markdown",
   "id": "c97b057c-def7-4dcb-bf7f-56ba8a8a2184",
   "metadata": {},
   "source": [
    "__Create 3 fair coins:__"
   ]
  },
  {
   "cell_type": "code",
   "execution_count": 2,
   "id": "8220ebd4-b4e4-4d7a-bd00-815e841b4d93",
   "metadata": {
    "tags": []
   },
   "outputs": [],
   "source": [
    "fair_coin1 = Die(['H','T'])\n",
    "fair_coin2 = Die(['H','T'])\n",
    "fair_coin3 = Die(['H','T'])\n",
    "\n",
    "fair_coins = [fair_coin1, fair_coin2, fair_coin3]"
   ]
  },
  {
   "cell_type": "markdown",
   "id": "d0654c71-8516-4cde-b0af-e47a0f3ce3d5",
   "metadata": {},
   "source": [
    "__Play 1000 games with a fair coin:__"
   ]
  },
  {
   "cell_type": "code",
   "execution_count": 3,
   "id": "e741b026-dfa7-4962-8dc3-4ba12d4a79a2",
   "metadata": {},
   "outputs": [],
   "source": [
    "fair_game = Game(fair_coins)\n",
    "\n",
    "fair_game.play(1000)"
   ]
  },
  {
   "cell_type": "markdown",
   "id": "1e26ee27-831e-40e7-88f4-e963025778e8",
   "metadata": {},
   "source": [
    "__Analyze the fair flip game:__"
   ]
  },
  {
   "cell_type": "code",
   "execution_count": 4,
   "id": "93d3b55e-164c-4ff6-839b-b786b770d1d1",
   "metadata": {},
   "outputs": [],
   "source": [
    "fair_coin_analyzer = Analyzer(fair_game)"
   ]
  },
  {
   "cell_type": "markdown",
   "id": "106ae223-d7ef-411f-8cc4-6a55811625eb",
   "metadata": {},
   "source": [
    "__Jackpot frequency:__"
   ]
  },
  {
   "cell_type": "code",
   "execution_count": 5,
   "id": "0e6b2a3a-6fd4-4dbd-9b8d-12677e941f37",
   "metadata": {},
   "outputs": [
    {
     "name": "stdout",
     "output_type": "stream",
     "text": [
      "Here are your number of jackpots: 241\n"
     ]
    }
   ],
   "source": [
    "fair_coin_analyzer.jackpot()"
   ]
  },
  {
   "cell_type": "markdown",
   "id": "44d471c8-cf55-400e-aa57-2f36a145a68e",
   "metadata": {},
   "source": [
    "__Here is the relative frequency of jackpots:__"
   ]
  },
  {
   "cell_type": "code",
   "execution_count": 6,
   "id": "0f53207e-c04b-4189-9745-9fecbc975028",
   "metadata": {},
   "outputs": [
    {
     "name": "stdout",
     "output_type": "stream",
     "text": [
      "0.241\n"
     ]
    }
   ],
   "source": [
    "fair_coin_jackpot = (fair_coin_analyzer.jackpot / 1000)\n",
    "print(fair_coin_jackpot)"
   ]
  },
  {
   "cell_type": "markdown",
   "id": "476b664c-2e21-4262-8ef1-4c2555dfd49b",
   "metadata": {},
   "source": [
    "__Create 2 unfair coins and a fair coin:__"
   ]
  },
  {
   "cell_type": "code",
   "execution_count": 7,
   "id": "a238c51b-8fa5-4a54-a916-2eea2fbac50c",
   "metadata": {},
   "outputs": [],
   "source": [
    "unfair_game_coin1 = Die(['H','T'])\n",
    "unfair_game_coin2 = Die(['H','T'])\n",
    "unfair_game_coin3 = Die(['H','T'])"
   ]
  },
  {
   "cell_type": "markdown",
   "id": "a40fda93-4a32-4086-9012-eb3b5e8e9669",
   "metadata": {},
   "source": [
    "__Change the coin's weight__"
   ]
  },
  {
   "cell_type": "code",
   "execution_count": 8,
   "id": "d0f296bc-ca5b-4ca3-9ae0-44aae64382df",
   "metadata": {},
   "outputs": [
    {
     "name": "stderr",
     "output_type": "stream",
     "text": [
      "/Users/theothormann/Desktop/Data Science/DS5001/FinalProject/ClassesFinalProject.py:65: SettingWithCopyWarning: \n",
      "A value is trying to be set on a copy of a slice from a DataFrame\n",
      "\n",
      "See the caveats in the documentation: https://pandas.pydata.org/pandas-docs/stable/user_guide/indexing.html#returning-a-view-versus-a-copy\n",
      "  self._df['weights'][i] = new_weight\n"
     ]
    }
   ],
   "source": [
    "unfair_game_coin1.change_weight('H', 5)\n",
    "unfair_game_coin2.change_weight('H', 5)"
   ]
  },
  {
   "cell_type": "code",
   "execution_count": 9,
   "id": "01a60364-e8e0-4e1e-acc8-d7e42d460618",
   "metadata": {},
   "outputs": [],
   "source": [
    "unfair_game_coins = [unfair_game_coin1, unfair_game_coin2, unfair_game_coin3]"
   ]
  },
  {
   "cell_type": "markdown",
   "id": "943bfd50-3acd-422b-b764-6db8f30ff09b",
   "metadata": {},
   "source": [
    "__Play 1000 weighted games__"
   ]
  },
  {
   "cell_type": "code",
   "execution_count": 10,
   "id": "45ac7269-e570-4d6b-8b43-1ecffec52e88",
   "metadata": {},
   "outputs": [],
   "source": [
    "unfair_game = Game(unfair_game_coins)\n",
    "\n",
    "unfair_game.play(1000)"
   ]
  },
  {
   "cell_type": "markdown",
   "id": "a1ddb286-20b5-4894-952c-0426e9362f80",
   "metadata": {},
   "source": [
    "__Analyze the unfair game:__"
   ]
  },
  {
   "cell_type": "code",
   "execution_count": 11,
   "id": "09a97af0-4705-4219-acb3-7d7101337aba",
   "metadata": {},
   "outputs": [],
   "source": [
    "unfair_coin_analyzer = Analyzer(unfair_game)"
   ]
  },
  {
   "cell_type": "markdown",
   "id": "0a95489e-8c6e-432b-b72d-bc6e55db321d",
   "metadata": {},
   "source": [
    "__Jackpot frequency:__"
   ]
  },
  {
   "cell_type": "code",
   "execution_count": 12,
   "id": "2de825be-21cd-4ed9-90ee-a25f7b20c62e",
   "metadata": {},
   "outputs": [
    {
     "name": "stdout",
     "output_type": "stream",
     "text": [
      "Here are your number of jackpots: 355\n"
     ]
    }
   ],
   "source": [
    "unfair_coin_analyzer.jackpot()"
   ]
  },
  {
   "cell_type": "markdown",
   "id": "f0a880db-65aa-4783-a29f-a8b1dd2fe537",
   "metadata": {},
   "source": [
    "__Relative jackpot frequency:__"
   ]
  },
  {
   "cell_type": "code",
   "execution_count": 13,
   "id": "13d10303-1d72-4370-92bf-294b12c016b9",
   "metadata": {},
   "outputs": [
    {
     "name": "stdout",
     "output_type": "stream",
     "text": [
      "0.355\n"
     ]
    }
   ],
   "source": [
    "unfair_coin_jackpot = (unfair_coin_analyzer.jackpot / 1000)\n",
    "print(unfair_coin_jackpot)"
   ]
  },
  {
   "cell_type": "markdown",
   "id": "06e99e93-ac34-4bc9-a3f6-31c5fdfa1c5c",
   "metadata": {},
   "source": [
    "__Bar graph showing the difference between the results:__"
   ]
  },
  {
   "cell_type": "code",
   "execution_count": 14,
   "id": "ec8f653c-fee4-46e4-b49d-3e312cbaf7be",
   "metadata": {},
   "outputs": [
    {
     "data": {
      "text/plain": [
       "<BarContainer object of 2 artists>"
      ]
     },
     "execution_count": 14,
     "metadata": {},
     "output_type": "execute_result"
    },
    {
     "data": {
      "image/png": "[encoded data removed]",
      "text/plain": [
       "<Figure size 432x288 with 1 Axes>"
      ]
     },
     "metadata": {
      "needs_background": "light"
     },
     "output_type": "display_data"
    }
   ],
   "source": [
    "names = ['Fair Jackpot', 'Unfair Jackpot']\n",
    "results = [fair_coin_jackpot, unfair_coin_jackpot]\n",
    "\n",
    "plt.bar(names, results)"
   ]
  },
  {
   "cell_type": "markdown",
   "id": "18ff7579-9600-4aea-9d86-4999ddc45610",
   "metadata": {
    "tags": []
   },
   "source": [
    "# Scenario 2 - Dice Roll"
   ]
  },
  {
   "cell_type": "markdown",
   "id": "25a7d90b-5e73-407c-842a-73b9d298de02",
   "metadata": {},
   "source": [
    "__Create five fair dice with 6 sides__"
   ]
  },
  {
   "cell_type": "code",
   "execution_count": 15,
   "id": "99b31463-fcee-43a7-841b-72fc37ee6edf",
   "metadata": {},
   "outputs": [],
   "source": [
    "die1 = Die([1,2,3,4,5,6])\n",
    "die2 = Die([1,2,3,4,5,6])\n",
    "die3 = Die([1,2,3,4,5,6])\n",
    "die4 = Die([1,2,3,4,5,6])\n",
    "die5 = Die([1,2,3,4,5,6])"
   ]
  },
  {
   "cell_type": "markdown",
   "id": "400b373f-c0b8-4dea-b4aa-ef56c71f3048",
   "metadata": {},
   "source": [
    "__Create two unfair dice where 6 is weighted heavier__"
   ]
  },
  {
   "cell_type": "code",
   "execution_count": 16,
   "id": "d586363e-ba7b-4164-9310-f8ad76e7a095",
   "metadata": {},
   "outputs": [],
   "source": [
    "die1_weighted6 = Die([1,2,3,4,5,6])\n",
    "die2_weighted6 = Die([1,2,3,4,5,6])\n",
    "\n",
    "die1_weighted6.change_weight(6, 5)\n",
    "die2_weighted6.change_weight(6, 5)"
   ]
  },
  {
   "cell_type": "markdown",
   "id": "b70a46d3-7c92-4dca-930f-51d45b1af5eb",
   "metadata": {},
   "source": [
    "__Create one unfair dice where 1 is weighted heavier__"
   ]
  },
  {
   "cell_type": "code",
   "execution_count": 17,
   "id": "ee7f45a7-cd4c-46af-aaec-0e342fdf4397",
   "metadata": {},
   "outputs": [],
   "source": [
    "die1_weighted1 = Die([1,2,3,4,5,6])\n",
    "\n",
    "die1_weighted1.change_weight(1, 5)"
   ]
  },
  {
   "cell_type": "markdown",
   "id": "e355d831-b608-415f-bd84-ac553cc29919",
   "metadata": {},
   "source": [
    "__Create a list of the fair dice__"
   ]
  },
  {
   "cell_type": "code",
   "execution_count": 18,
   "id": "8fd504a3-70d3-47b2-8658-068dfdcffad3",
   "metadata": {},
   "outputs": [],
   "source": [
    "fair_dice = [die1, die2, die3, die4, die5]"
   ]
  },
  {
   "cell_type": "markdown",
   "id": "fc059dc2-742a-4672-aa6d-bf708e71b174",
   "metadata": {},
   "source": [
    "__Create and play a game using five fair dice__"
   ]
  },
  {
   "cell_type": "code",
   "execution_count": 19,
   "id": "d075bc55-a722-45d5-9d26-126acb346c14",
   "metadata": {
    "tags": []
   },
   "outputs": [],
   "source": [
    "fair_dice_game = Game(fair_dice)\n",
    "fair_dice_game.play(10000)"
   ]
  },
  {
   "cell_type": "markdown",
   "id": "67402738-ee72-4fae-aef2-5d11803b620d",
   "metadata": {},
   "source": [
    "__Create a list of dice for the unfair game__"
   ]
  },
  {
   "cell_type": "code",
   "execution_count": 20,
   "id": "a7a36301-a6fa-40d9-af12-0f4520591071",
   "metadata": {},
   "outputs": [],
   "source": [
    "unfair_game_dice = [die1, die2, die1_weighted6, die2_weighted6, die1_weighted1]"
   ]
  },
  {
   "cell_type": "markdown",
   "id": "8f2d0c44-646c-4144-bc7d-8afa17402531",
   "metadata": {},
   "source": [
    "__Create and play an unfair game__"
   ]
  },
  {
   "cell_type": "code",
   "execution_count": 21,
   "id": "db68fae5-eb34-4627-a212-0c44befcdc51",
   "metadata": {},
   "outputs": [],
   "source": [
    "unfair_dice_game = Game(unfair_game_dice)\n",
    "unfair_dice_game.play(10000)"
   ]
  },
  {
   "cell_type": "markdown",
   "id": "4ea39f3f-6718-41e8-9a06-071dc2d9fc53",
   "metadata": {},
   "source": [
    "__Create an analyzer for the fair and unfair dice games__"
   ]
  },
  {
   "cell_type": "code",
   "execution_count": 22,
   "id": "ba26a60c-3a57-417f-9faf-cb8503b481ac",
   "metadata": {},
   "outputs": [],
   "source": [
    "fair_dice_analyzer = Analyzer(fair_dice_game)\n",
    "unfair_dice_analyzer = Analyzer(unfair_dice_game)"
   ]
  },
  {
   "cell_type": "markdown",
   "id": "ce8077a5-67e2-4e48-82fd-1d8b3a1b3240",
   "metadata": {},
   "source": [
    "__Analyze the jackpot for the fair dice game__"
   ]
  },
  {
   "cell_type": "code",
   "execution_count": 23,
   "id": "1c156cf5-6e26-49d2-9689-2f9a426a6fdb",
   "metadata": {},
   "outputs": [
    {
     "name": "stdout",
     "output_type": "stream",
     "text": [
      "Here are your number of jackpots: 1\n"
     ]
    }
   ],
   "source": [
    "fair_dice_analyzer.jackpot()"
   ]
  },
  {
   "cell_type": "code",
   "execution_count": 24,
   "id": "54469a9a-147e-4df7-89af-3570a80cf82b",
   "metadata": {
    "tags": []
   },
   "outputs": [
    {
     "name": "stdout",
     "output_type": "stream",
     "text": [
      "0.0001\n"
     ]
    }
   ],
   "source": [
    "fair_dice_jackpot = (fair_dice_analyzer.jackpot / 10000)\n",
    "print(fair_dice_jackpot)"
   ]
  },
  {
   "cell_type": "markdown",
   "id": "7a8b68a0-dc11-4230-aa86-f5d575d4a44f",
   "metadata": {},
   "source": [
    "__Analyze the jackpot for the unfair dice game__"
   ]
  },
  {
   "cell_type": "code",
   "execution_count": 25,
   "id": "220f5d48-c8d8-4b9a-9349-fff87abbb2b8",
   "metadata": {},
   "outputs": [
    {
     "name": "stdout",
     "output_type": "stream",
     "text": [
      "Here are your number of jackpots: 7\n"
     ]
    }
   ],
   "source": [
    "unfair_dice_analyzer.jackpot()"
   ]
  },
  {
   "cell_type": "code",
   "execution_count": 26,
   "id": "c4a1b0f3-06da-4028-838a-ed46c458e474",
   "metadata": {},
   "outputs": [
    {
     "name": "stdout",
     "output_type": "stream",
     "text": [
      "0.0007\n"
     ]
    }
   ],
   "source": [
    "unfair_dice_jackpot = (unfair_dice_analyzer.jackpot / 10000)\n",
    "print(unfair_dice_jackpot)"
   ]
  },
  {
   "cell_type": "markdown",
   "id": "12cf9c83-6063-4fd3-8875-f184741d2f80",
   "metadata": {},
   "source": [
    "__Bar graph showing the difference between the results:__"
   ]
  },
  {
   "cell_type": "code",
   "execution_count": 27,
   "id": "2763839d-a957-4972-992b-0f01f24fa43d",
   "metadata": {},
   "outputs": [
    {
     "data": {
      "text/plain": [
       "<BarContainer object of 2 artists>"
      ]
     },
     "execution_count": 27,
     "metadata": {},
     "output_type": "execute_result"
    },
    {
     "data": {
      "image/png": "[encoded data removed]",
      "text/plain": [
       "<Figure size 432x288 with 1 Axes>"
      ]
     },
     "metadata": {
      "needs_background": "light"
     },
     "output_type": "display_data"
    }
   ],
   "source": [
    "names = ['Fair Jackpot', 'Unfair Jackpot']\n",
    "results = [fair_dice_jackpot, unfair_dice_jackpot]\n",
    "\n",
    "plt.bar(names, results)"
   ]
  },
  {
   "cell_type": "code",
   "execution_count": 28,
   "id": "ccefef27-bca6-46eb-a3e8-e70c927a4351",
   "metadata": {},
   "outputs": [],
   "source": [
    "fair_dice_analyzer.combo()"
   ]
  },
  {
   "cell_type": "code",
   "execution_count": 29,
   "id": "d198e3ff-6fe1-4227-ac6f-a886b1eda8c5",
   "metadata": {},
   "outputs": [],
   "source": [
    "unfair_dice_analyzer.combo()"
   ]
  },
  {
   "cell_type": "markdown",
   "id": "45fe55b7-9a4b-4b81-8ebd-00c5f91de6fe",
   "metadata": {},
   "source": [
    "__Create a bar graph for the Fair Dice Game__"
   ]
  },
  {
   "cell_type": "code",
   "execution_count": 30,
   "id": "9eadca13-3942-4c28-bcdf-08e157a06116",
   "metadata": {},
   "outputs": [
    {
     "data": {
      "text/plain": [
       "<AxesSubplot:xlabel='0,1,2,3,4'>"
      ]
     },
     "execution_count": 30,
     "metadata": {},
     "output_type": "execute_result"
    },
    {
     "data": {
      "image/png": "[encoded data removed]",
      "text/plain": [
       "<Figure size 432x288 with 1 Axes>"
      ]
     },
     "metadata": {
      "needs_background": "light"
     },
     "output_type": "display_data"
    }
   ],
   "source": [
    "fair_dice_analyzer.combo_df.head(10).plot.bar()"
   ]
  },
  {
   "cell_type": "markdown",
   "id": "38f94e27-69b4-4319-b959-9a2cf6b4db63",
   "metadata": {},
   "source": [
    "__Create a bar graph for the Fair Dice Game__"
   ]
  },
  {
   "cell_type": "code",
   "execution_count": 31,
   "id": "620a564f-029b-4b20-8c65-1bb4c81a72a6",
   "metadata": {},
   "outputs": [
    {
     "data": {
      "text/plain": [
       "<AxesSubplot:xlabel='0,1,2,3,4'>"
      ]
     },
     "execution_count": 31,
     "metadata": {},
     "output_type": "execute_result"
    },
    {
     "data": {
      "image/png": "[encoded data removed]",
      "text/plain": [
       "<Figure size 432x288 with 1 Axes>"
      ]
     },
     "metadata": {
      "needs_background": "light"
     },
     "output_type": "display_data"
    }
   ],
   "source": [
    "unfair_dice_analyzer.combo_df.head(10).plot.bar()"
   ]
  },
  {
   "cell_type": "markdown",
   "id": "c1951e6d-687d-4eb7-a6be-d51e0dc12bd3",
   "metadata": {
    "tags": []
   },
   "source": [
    "# Scenario 3 - Alphabet"
   ]
  },
  {
   "cell_type": "markdown",
   "id": "86f9a725-f8b9-4777-8b2f-675afae5e779",
   "metadata": {},
   "source": [
    "__Create five dice with the alphabet as faces on each die__"
   ]
  },
  {
   "cell_type": "code",
   "execution_count": 32,
   "id": "d035138a-6aa4-4c39-8ca0-83cbd59be42c",
   "metadata": {
    "tags": []
   },
   "outputs": [],
   "source": [
    "alpha1 = Die(['a','b','c','d','e','f','g','h','i','j','k','l','m','n','o','p','q','r','s','t','u','v','w','x','y','z'],\n",
    "            [8.4966, 2.0720, 4.5388, 3.3844, 11.1607, 1.8121, 2.4705, 3.0034, 7.5448, 0.1965, 1.1016, 5.4839, 3.0129, 6.6544, 7.1635, 3.1671, 0.1962, 7.5809, 5.7351, 6.9509, 3.6308, 1.0074, 1.2899, 0.2902, 1.7779, 0.2722])\n",
    "alpha2 = Die(['a','b','c','d','e','f','g','h','i','j','k','l','m','n','o','p','q','r','s','t','u','v','w','x','y','z'],\n",
    "            [8.4966, 2.0720, 4.5388, 3.3844, 11.1607, 1.8121, 2.4705, 3.0034, 7.5448, 0.1965, 1.1016, 5.4839, 3.0129, 6.6544, 7.1635, 3.1671, 0.1962, 7.5809, 5.7351, 6.9509, 3.6308, 1.0074, 1.2899, 0.2902, 1.7779, 0.2722])\n",
    "alpha3 = Die(['a','b','c','d','e','f','g','h','i','j','k','l','m','n','o','p','q','r','s','t','u','v','w','x','y','z'],\n",
    "            [8.4966, 2.0720, 4.5388, 3.3844, 11.1607, 1.8121, 2.4705, 3.0034, 7.5448, 0.1965, 1.1016, 5.4839, 3.0129, 6.6544, 7.1635, 3.1671, 0.1962, 7.5809, 5.7351, 6.9509, 3.6308, 1.0074, 1.2899, 0.2902, 1.7779, 0.2722])\n",
    "alpha4 = Die(['a','b','c','d','e','f','g','h','i','j','k','l','m','n','o','p','q','r','s','t','u','v','w','x','y','z'],\n",
    "            [8.4966, 2.0720, 4.5388, 3.3844, 11.1607, 1.8121, 2.4705, 3.0034, 7.5448, 0.1965, 1.1016, 5.4839, 3.0129, 6.6544, 7.1635, 3.1671, 0.1962, 7.5809, 5.7351, 6.9509, 3.6308, 1.0074, 1.2899, 0.2902, 1.7779, 0.2722])\n",
    "alpha5 = Die(['a','b','c','d','e','f','g','h','i','j','k','l','m','n','o','p','q','r','s','t','u','v','w','x','y','z'],\n",
    "            [8.4966, 2.0720, 4.5388, 3.3844, 11.1607, 1.8121, 2.4705, 3.0034, 7.5448, 0.1965, 1.1016, 5.4839, 3.0129, 6.6544, 7.1635, 3.1671, 0.1962, 7.5809, 5.7351, 6.9509, 3.6308, 1.0074, 1.2899, 0.2902, 1.7779, 0.2722])\n",
    "\n",
    "alpha_list = [alpha1, alpha2, alpha3, alpha4, alpha5]"
   ]
  },
  {
   "cell_type": "markdown",
   "id": "930518f5-d14b-4da6-aa55-b17b55908b6f",
   "metadata": {},
   "source": [
    "__Create and play a game using the five alphabet dice__"
   ]
  },
  {
   "cell_type": "code",
   "execution_count": 33,
   "id": "15ba43c9-a8dd-430c-a02e-8305d0f2e509",
   "metadata": {
    "tags": []
   },
   "outputs": [],
   "source": [
    "alpha_game = Game(alpha_list)\n",
    "alpha_game.play(1000)"
   ]
  },
  {
   "cell_type": "markdown",
   "id": "1624019d-3053-4d40-b11b-7a4636985cad",
   "metadata": {},
   "source": [
    "__Create an analyzer for the alphabet game__"
   ]
  },
  {
   "cell_type": "code",
   "execution_count": 34,
   "id": "1e6bec3f-9c1f-4ddc-a214-7ebe68e79578",
   "metadata": {},
   "outputs": [],
   "source": [
    "alpha_game_analyzer = Analyzer(alpha_game)"
   ]
  },
  {
   "cell_type": "markdown",
   "id": "1b441ccd-454f-484e-bbd9-11f41b669fba",
   "metadata": {},
   "source": [
    "__Display the results of the alphabet game__"
   ]
  },
  {
   "cell_type": "code",
   "execution_count": 35,
   "id": "6cbe0f60-af04-4259-af31-39f312d49f57",
   "metadata": {},
   "outputs": [
    {
     "data": {
      "text/html": [
       "<div>\n",
       "<style scoped>\n",
       "    .dataframe tbody tr th:only-of-type {\n",
       "        vertical-align: middle;\n",
       "    }\n",
       "\n",
       "    .dataframe tbody tr th {\n",
       "        vertical-align: top;\n",
       "    }\n",
       "\n",
       "    .dataframe thead th {\n",
       "        text-align: right;\n",
       "    }\n",
       "</style>\n",
       "<table border=\"1\" class=\"dataframe\">\n",
       "  <thead>\n",
       "    <tr style=\"text-align: right;\">\n",
       "      <th></th>\n",
       "      <th>Die 1</th>\n",
       "      <th>Die 2</th>\n",
       "      <th>Die 3</th>\n",
       "      <th>Die 4</th>\n",
       "      <th>Die 5</th>\n",
       "    </tr>\n",
       "    <tr>\n",
       "      <th>Roll Number</th>\n",
       "      <th></th>\n",
       "      <th></th>\n",
       "      <th></th>\n",
       "      <th></th>\n",
       "      <th></th>\n",
       "    </tr>\n",
       "  </thead>\n",
       "  <tbody>\n",
       "    <tr>\n",
       "      <th>0</th>\n",
       "      <td>n</td>\n",
       "      <td>n</td>\n",
       "      <td>h</td>\n",
       "      <td>e</td>\n",
       "      <td>o</td>\n",
       "    </tr>\n",
       "    <tr>\n",
       "      <th>1</th>\n",
       "      <td>s</td>\n",
       "      <td>o</td>\n",
       "      <td>i</td>\n",
       "      <td>o</td>\n",
       "      <td>p</td>\n",
       "    </tr>\n",
       "    <tr>\n",
       "      <th>2</th>\n",
       "      <td>p</td>\n",
       "      <td>u</td>\n",
       "      <td>m</td>\n",
       "      <td>n</td>\n",
       "      <td>i</td>\n",
       "    </tr>\n",
       "    <tr>\n",
       "      <th>3</th>\n",
       "      <td>m</td>\n",
       "      <td>t</td>\n",
       "      <td>o</td>\n",
       "      <td>a</td>\n",
       "      <td>p</td>\n",
       "    </tr>\n",
       "    <tr>\n",
       "      <th>4</th>\n",
       "      <td>e</td>\n",
       "      <td>m</td>\n",
       "      <td>b</td>\n",
       "      <td>t</td>\n",
       "      <td>m</td>\n",
       "    </tr>\n",
       "    <tr>\n",
       "      <th>5</th>\n",
       "      <td>d</td>\n",
       "      <td>b</td>\n",
       "      <td>c</td>\n",
       "      <td>p</td>\n",
       "      <td>r</td>\n",
       "    </tr>\n",
       "    <tr>\n",
       "      <th>6</th>\n",
       "      <td>t</td>\n",
       "      <td>d</td>\n",
       "      <td>l</td>\n",
       "      <td>s</td>\n",
       "      <td>a</td>\n",
       "    </tr>\n",
       "    <tr>\n",
       "      <th>7</th>\n",
       "      <td>y</td>\n",
       "      <td>r</td>\n",
       "      <td>e</td>\n",
       "      <td>r</td>\n",
       "      <td>f</td>\n",
       "    </tr>\n",
       "    <tr>\n",
       "      <th>8</th>\n",
       "      <td>l</td>\n",
       "      <td>a</td>\n",
       "      <td>s</td>\n",
       "      <td>u</td>\n",
       "      <td>a</td>\n",
       "    </tr>\n",
       "    <tr>\n",
       "      <th>9</th>\n",
       "      <td>c</td>\n",
       "      <td>n</td>\n",
       "      <td>a</td>\n",
       "      <td>e</td>\n",
       "      <td>a</td>\n",
       "    </tr>\n",
       "  </tbody>\n",
       "</table>\n",
       "</div>"
      ],
      "text/plain": [
       "            Die 1 Die 2 Die 3 Die 4 Die 5\n",
       "Roll Number                              \n",
       "0               n     n     h     e     o\n",
       "1               s     o     i     o     p\n",
       "2               p     u     m     n     i\n",
       "3               m     t     o     a     p\n",
       "4               e     m     b     t     m\n",
       "5               d     b     c     p     r\n",
       "6               t     d     l     s     a\n",
       "7               y     r     e     r     f\n",
       "8               l     a     s     u     a\n",
       "9               c     n     a     e     a"
      ]
     },
     "execution_count": 35,
     "metadata": {},
     "output_type": "execute_result"
    }
   ],
   "source": [
    "alpha_game.show().head(10)"
   ]
  },
  {
   "cell_type": "code",
   "execution_count": null,
   "id": "d9fca0d2-8304-41bf-9908-6791152a03c4",
   "metadata": {},
   "outputs": [],
   "source": []
  }
 ],
 "metadata": {
  "kernelspec": {
   "display_name": "Python 3 (ipykernel)",
   "language": "python",
   "name": "python3"
  },
  "language_info": {
   "codemirror_mode": {
    "name": "ipython",
    "version": 3
   },
   "file_extension": ".py",
   "mimetype": "text/x-python",
   "name": "python",
   "nbconvert_exporter": "python",
   "pygments_lexer": "ipython3",
   "version": "3.9.7"
  }
 },
 "nbformat": 4,
 "nbformat_minor": 5
}
